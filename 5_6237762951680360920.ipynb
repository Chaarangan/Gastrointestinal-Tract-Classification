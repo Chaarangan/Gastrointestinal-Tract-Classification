{
  "nbformat": 4,
  "nbformat_minor": 0,
  "metadata": {
    "accelerator": "GPU",
    "colab": {
      "name": "KVASIR_Final.ipynb",
      "provenance": [],
      "collapsed_sections": []
    },
    "kernelspec": {
      "display_name": "Python 3",
      "name": "python3"
    }
  },
  "cells": [
    {
      "cell_type": "code",
      "metadata": {
        "id": "kaETJhflgol2",
        "colab": {
          "base_uri": "https://localhost:8080/"
        },
        "outputId": "49b100f8-de9b-4700-d20e-2782dd9db40e"
      },
      "source": [
        "import os\n",
        "import tensorflow as tf\n",
        "\n",
        "\n",
        "from tensorflow.keras import layers\n",
        "from tensorflow.keras import Model\n",
        "\n",
        "!wget --no-check-certificate \\\n",
        "    https://storage.googleapis.com/mledu-datasets/inception_v3_weights_tf_dim_ordering_tf_kernels_notop.h5 \\\n",
        "    -O /tmp/inception_v3_weights_tf_dim_ordering_tf_kernels_notop.h5\n",
        "  \n",
        "from tensorflow.keras.applications.inception_v3 import InceptionV3\n",
        "\n",
        "local_weights_file = '/tmp/inception_v3_weights_tf_dim_ordering_tf_kernels_notop.h5'\n",
        "\n",
        "pre_trained_model = InceptionV3(input_shape = (150, 150, 3), \n",
        "                                include_top = False, \n",
        "                                weights = None)\n",
        "\n",
        "pre_trained_model.load_weights(local_weights_file)\n",
        "\n",
        "for layer in pre_trained_model.layers:\n",
        "  layer.trainable = False\n",
        "  \n",
        "# pre_trained_model.summary()\n",
        "\n",
        "last_layer = pre_trained_model.get_layer('mixed7')\n",
        "print('last layer output shape: ', last_layer.output_shape)\n",
        "last_output = last_layer.output"
      ],
      "execution_count": 1,
      "outputs": [
        {
          "output_type": "stream",
          "text": [
            "--2021-03-17 06:11:48--  https://storage.googleapis.com/mledu-datasets/inception_v3_weights_tf_dim_ordering_tf_kernels_notop.h5\n",
            "Resolving storage.googleapis.com (storage.googleapis.com)... 108.177.11.128, 172.217.193.128, 172.217.204.128, ...\n",
            "Connecting to storage.googleapis.com (storage.googleapis.com)|108.177.11.128|:443... connected.\n",
            "HTTP request sent, awaiting response... 200 OK\n",
            "Length: 87910968 (84M) [application/x-hdf]\n",
            "Saving to: ‘/tmp/inception_v3_weights_tf_dim_ordering_tf_kernels_notop.h5’\n",
            "\n",
            "/tmp/inception_v3_w 100%[===================>]  83.84M   161MB/s    in 0.5s    \n",
            "\n",
            "2021-03-17 06:11:49 (161 MB/s) - ‘/tmp/inception_v3_weights_tf_dim_ordering_tf_kernels_notop.h5’ saved [87910968/87910968]\n",
            "\n",
            "last layer output shape:  (None, 7, 7, 768)\n"
          ],
          "name": "stdout"
        }
      ]
    },
    {
      "cell_type": "code",
      "metadata": {
        "id": "fgamlb-jERW0"
      },
      "source": [
        "from tensorflow.keras.optimizers import RMSprop\n",
        "\n",
        "# Flatten the output layer to 1 dimension\n",
        "x = layers.Flatten()(last_output)\n",
        "# Add a fully connected layer with 1,024 hidden units and ReLU activation\n",
        "x = layers.Dense(1024, activation='relu')(x)\n",
        "# Add a dropout rate of 0.2\n",
        "x = layers.Dropout(0.2)(x)                  \n",
        "# Add a final sigmoid layer for classification\n",
        "x = layers.Dense  (8, activation='softmax')(x)           \n",
        "\n",
        "model = Model( pre_trained_model.input, x) \n",
        "\n",
        "model.compile(loss = 'categorical_crossentropy', optimizer='rmsprop', metrics=['accuracy'])\n"
      ],
      "execution_count": 2,
      "outputs": []
    },
    {
      "cell_type": "code",
      "metadata": {
        "colab": {
          "base_uri": "https://localhost:8080/"
        },
        "id": "T4JbQ5bDEpK1",
        "outputId": "3a0ba9dd-899c-4c8f-c0cf-4171ed9918bb"
      },
      "source": [
        "!wget --no-check-certificate \\\n",
        "    https://datasets.simula.no/kvasir/data/kvasir-dataset-v2.zip \\\n",
        "    -O /tmp/kvasir-dataset-v2.zip"
      ],
      "execution_count": 3,
      "outputs": [
        {
          "output_type": "stream",
          "text": [
            "--2021-03-17 06:11:56--  https://datasets.simula.no/kvasir/data/kvasir-dataset-v2.zip\n",
            "Resolving datasets.simula.no (datasets.simula.no)... 128.39.36.14\n",
            "Connecting to datasets.simula.no (datasets.simula.no)|128.39.36.14|:443... connected.\n",
            "HTTP request sent, awaiting response... 200 OK\n",
            "Length: 2489312085 (2.3G) [application/zip]\n",
            "Saving to: ‘/tmp/kvasir-dataset-v2.zip’\n",
            "\n",
            "/tmp/kvasir-dataset 100%[===================>]   2.32G  23.1MB/s    in 1m 44s  \n",
            "\n",
            "2021-03-17 06:13:41 (22.7 MB/s) - ‘/tmp/kvasir-dataset-v2.zip’ saved [2489312085/2489312085]\n",
            "\n"
          ],
          "name": "stdout"
        }
      ]
    },
    {
      "cell_type": "code",
      "metadata": {
        "colab": {
          "base_uri": "https://localhost:8080/"
        },
        "id": "exdNdXvsErnl",
        "outputId": "b07d6d97-1292-4b1f-896f-20606ce79f87"
      },
      "source": [
        "import os\n",
        "import zipfile\n",
        "import random\n",
        "import tensorflow as tf\n",
        "from tensorflow.keras.optimizers import RMSprop\n",
        "from tensorflow.keras.preprocessing.image import ImageDataGenerator\n",
        "from shutil import copyfile\n",
        "\n",
        "# file_path = '/tmp/kvasir-dataset-v2/'\n",
        "# os.remove(file_path)\n",
        "\n",
        "local_zip = '/tmp/kvasir-dataset-v2.zip'\n",
        "zip_ref = zipfile.ZipFile(local_zip, 'r')\n",
        "zip_ref.extractall('/tmp/')\n",
        "zip_ref.close()\n",
        "\n",
        "from glob import glob\n",
        "glob(\"/tmp/kvasir-dataset-v2/*/\")"
      ],
      "execution_count": 4,
      "outputs": [
        {
          "output_type": "execute_result",
          "data": {
            "text/plain": [
              "['/tmp/kvasir-dataset-v2/normal-z-line/',\n",
              " '/tmp/kvasir-dataset-v2/ulcerative-colitis/',\n",
              " '/tmp/kvasir-dataset-v2/esophagitis/',\n",
              " '/tmp/kvasir-dataset-v2/normal-cecum/',\n",
              " '/tmp/kvasir-dataset-v2/dyed-lifted-polyps/',\n",
              " '/tmp/kvasir-dataset-v2/dyed-resection-margins/',\n",
              " '/tmp/kvasir-dataset-v2/normal-pylorus/',\n",
              " '/tmp/kvasir-dataset-v2/polyps/']"
            ]
          },
          "metadata": {
            "tags": []
          },
          "execution_count": 4
        }
      ]
    },
    {
      "cell_type": "code",
      "metadata": {
        "colab": {
          "base_uri": "https://localhost:8080/"
        },
        "id": "xxndjwx1EyZ7",
        "outputId": "26944965-ec0b-4259-c744-1a1fdee82c0a"
      },
      "source": [
        "def fast_scandir(dirname):\n",
        "    subfolders= [f.path for f in os.scandir(dirname) if f.is_dir()]\n",
        "    for dirname in list(subfolders):\n",
        "        subfolders.extend(fast_scandir(dirname))\n",
        "    return subfolders\n",
        "\n",
        "#os.mkdir('/tmp/kvasir-dataset-v2/data/training/dyed-lifted-polyps/')\n",
        "def mkdirectory():\n",
        "    try:\n",
        "      os.mkdir('/tmp/kvasir-dataset-v2/data/')\n",
        "      os.mkdir('/tmp/kvasir-dataset-v2/data/training/')\n",
        "      os.mkdir('/tmp/kvasir-dataset-v2/data/testing')\n",
        "\n",
        "      os.mkdir('/tmp/kvasir-dataset-v2/data/training/dyed-lifted-polyps/')\n",
        "      os.mkdir('/tmp/kvasir-dataset-v2/data/training/dyed-resection-margins/')\n",
        "      os.mkdir('/tmp/kvasir-dataset-v2/data/training/esophagitis/')\n",
        "      os.mkdir('/tmp/kvasir-dataset-v2/data/training/normal-cecum/')\n",
        "      os.mkdir('/tmp/kvasir-dataset-v2/data/training/normal-pylorus/')\n",
        "      os.mkdir('/tmp/kvasir-dataset-v2/data/training/normal-z-line/')\n",
        "      os.mkdir('/tmp/kvasir-dataset-v2/data/training/polyps/')\n",
        "      os.mkdir('/tmp/kvasir-dataset-v2/data/training/ulcerative-colitis/')\n",
        "      \n",
        "      os.mkdir('/tmp/kvasir-dataset-v2/data/testing/dyed-lifted-polyps/')\n",
        "      os.mkdir('/tmp/kvasir-dataset-v2/data/testing/dyed-resection-margins/')\n",
        "      os.mkdir('/tmp/kvasir-dataset-v2/data/testing/esophagitis/')\n",
        "      os.mkdir('/tmp/kvasir-dataset-v2/data/testing/normal-cecum/')\n",
        "      os.mkdir('/tmp/kvasir-dataset-v2/data/testing/normal-pylorus/')\n",
        "      os.mkdir('/tmp/kvasir-dataset-v2/data/testing/normal-z-line/')\n",
        "      os.mkdir('/tmp/kvasir-dataset-v2/data/testing/polyps/')\n",
        "      os.mkdir('/tmp/kvasir-dataset-v2/data/testing/ulcerative-colitis/')\n",
        "      \n",
        "    except OSError:\n",
        "      pass\n",
        "\n",
        "mkdirectory()\n",
        "fast_scandir('/tmp/kvasir-dataset-v2/')\n",
        "\n",
        "# from glob import glob\n",
        "# glob(\"/tmp/kvasir-dataset-v2/*/\")"
      ],
      "execution_count": 5,
      "outputs": [
        {
          "output_type": "execute_result",
          "data": {
            "text/plain": [
              "['/tmp/kvasir-dataset-v2/data',\n",
              " '/tmp/kvasir-dataset-v2/normal-z-line',\n",
              " '/tmp/kvasir-dataset-v2/ulcerative-colitis',\n",
              " '/tmp/kvasir-dataset-v2/esophagitis',\n",
              " '/tmp/kvasir-dataset-v2/normal-cecum',\n",
              " '/tmp/kvasir-dataset-v2/dyed-lifted-polyps',\n",
              " '/tmp/kvasir-dataset-v2/dyed-resection-margins',\n",
              " '/tmp/kvasir-dataset-v2/normal-pylorus',\n",
              " '/tmp/kvasir-dataset-v2/polyps',\n",
              " '/tmp/kvasir-dataset-v2/data/testing',\n",
              " '/tmp/kvasir-dataset-v2/data/training',\n",
              " '/tmp/kvasir-dataset-v2/data/testing/normal-z-line',\n",
              " '/tmp/kvasir-dataset-v2/data/testing/ulcerative-colitis',\n",
              " '/tmp/kvasir-dataset-v2/data/testing/esophagitis',\n",
              " '/tmp/kvasir-dataset-v2/data/testing/normal-cecum',\n",
              " '/tmp/kvasir-dataset-v2/data/testing/dyed-lifted-polyps',\n",
              " '/tmp/kvasir-dataset-v2/data/testing/dyed-resection-margins',\n",
              " '/tmp/kvasir-dataset-v2/data/testing/normal-pylorus',\n",
              " '/tmp/kvasir-dataset-v2/data/testing/polyps',\n",
              " '/tmp/kvasir-dataset-v2/data/training/normal-z-line',\n",
              " '/tmp/kvasir-dataset-v2/data/training/ulcerative-colitis',\n",
              " '/tmp/kvasir-dataset-v2/data/training/esophagitis',\n",
              " '/tmp/kvasir-dataset-v2/data/training/normal-cecum',\n",
              " '/tmp/kvasir-dataset-v2/data/training/dyed-lifted-polyps',\n",
              " '/tmp/kvasir-dataset-v2/data/training/dyed-resection-margins',\n",
              " '/tmp/kvasir-dataset-v2/data/training/normal-pylorus',\n",
              " '/tmp/kvasir-dataset-v2/data/training/polyps']"
            ]
          },
          "metadata": {
            "tags": []
          },
          "execution_count": 5
        }
      ]
    },
    {
      "cell_type": "code",
      "metadata": {
        "id": "DETDufhoE1KX"
      },
      "source": [
        "def split_data(SOURCE, TRAINING, TESTING, SPLIT_SIZE):\n",
        "    files = []\n",
        "    for filename in os.listdir(SOURCE):\n",
        "        file = SOURCE + filename\n",
        "        if os.path.getsize(file) > 0:\n",
        "            files.append(filename)\n",
        "        else:\n",
        "            print(filename + \" is zero length, so ignoring.\")\n",
        "\n",
        "    training_length = int(len(files) * SPLIT_SIZE)\n",
        "    testing_length = int(len(files) - training_length)\n",
        "    shuffled_set = random.sample(files, len(files))\n",
        "    training_set = shuffled_set[0:training_length]\n",
        "    testing_set = shuffled_set[-testing_length:]\n",
        "\n",
        "    for filename in training_set:\n",
        "        this_file = SOURCE + filename\n",
        "        destination = TRAINING + filename\n",
        "        copyfile(this_file, destination)\n",
        "\n",
        "    for filename in testing_set:\n",
        "        this_file = SOURCE + filename\n",
        "        destination = TESTING + filename\n",
        "        copyfile(this_file, destination)\n",
        "\n",
        "\n",
        "SOURCE_DIR1 = \"/tmp/kvasir-dataset-v2/dyed-lifted-polyps/\"\n",
        "SOURCE_DIR2 = \"/tmp/kvasir-dataset-v2/dyed-resection-margins/\"\n",
        "SOURCE_DIR3 = \"/tmp/kvasir-dataset-v2/esophagitis/\"\n",
        "SOURCE_DIR4 = \"/tmp/kvasir-dataset-v2/normal-cecum/\"\n",
        "SOURCE_DIR5 = \"/tmp/kvasir-dataset-v2/normal-pylorus/\"\n",
        "SOURCE_DIR6 = \"/tmp/kvasir-dataset-v2/normal-z-line/\"\n",
        "SOURCE_DIR7 = \"/tmp/kvasir-dataset-v2/polyps/\"\n",
        "SOURCE_DIR8 = \"/tmp/kvasir-dataset-v2/ulcerative-colitis/\"\n",
        "\n",
        "TRAINING_DIR1 = \"/tmp/kvasir-dataset-v2/data/training/dyed-lifted-polyps/\"\n",
        "TRAINING_DIR2 = \"/tmp/kvasir-dataset-v2/data/training/dyed-resection-margins/\"\n",
        "TRAINING_DIR3 = \"/tmp/kvasir-dataset-v2/data/training/esophagitis/\"\n",
        "TRAINING_DIR4 = \"/tmp/kvasir-dataset-v2/data/training/normal-cecum/\"\n",
        "TRAINING_DIR5 = \"/tmp/kvasir-dataset-v2/data/training/normal-pylorus/\"\n",
        "TRAINING_DIR6 = \"/tmp/kvasir-dataset-v2/data/training/normal-z-line/\"\n",
        "TRAINING_DIR7 = \"/tmp/kvasir-dataset-v2/data/training/polyps/\"\n",
        "TRAINING_DIR8 = \"/tmp/kvasir-dataset-v2/data/training/ulcerative-colitis/\"\n",
        "\n",
        "TESTING_DIR1 = \"/tmp/kvasir-dataset-v2/data/testing/dyed-lifted-polyps/\"\n",
        "TESTING_DIR2 = \"/tmp/kvasir-dataset-v2/data/testing/dyed-resection-margins/\"\n",
        "TESTING_DIR3 = \"/tmp/kvasir-dataset-v2/data/testing/esophagitis/\"\n",
        "TESTING_DIR4 = \"/tmp/kvasir-dataset-v2/data/testing/normal-cecum/\"\n",
        "TESTING_DIR5 = \"/tmp/kvasir-dataset-v2/data/testing/normal-pylorus/\"\n",
        "TESTING_DIR6 = \"/tmp/kvasir-dataset-v2/data/testing/normal-z-line/\"\n",
        "TESTING_DIR7 = \"/tmp/kvasir-dataset-v2/data/testing/polyps/\"\n",
        "TESTING_DIR8 = \"/tmp/kvasir-dataset-v2/data/testing/ulcerative-colitis/\"\n",
        "\n",
        "split_size = .8\n",
        "split_data(SOURCE_DIR1, TRAINING_DIR1, TESTING_DIR1, split_size)\n",
        "split_data(SOURCE_DIR2, TRAINING_DIR2, TESTING_DIR2, split_size)\n",
        "split_data(SOURCE_DIR3, TRAINING_DIR3, TESTING_DIR3, split_size)\n",
        "split_data(SOURCE_DIR4, TRAINING_DIR4, TESTING_DIR4, split_size)\n",
        "split_data(SOURCE_DIR5, TRAINING_DIR5, TESTING_DIR5, split_size)\n",
        "split_data(SOURCE_DIR6, TRAINING_DIR6, TESTING_DIR6, split_size)\n",
        "split_data(SOURCE_DIR7, TRAINING_DIR7, TESTING_DIR7, split_size)\n",
        "split_data(SOURCE_DIR8, TRAINING_DIR8, TESTING_DIR8, split_size)\n"
      ],
      "execution_count": 6,
      "outputs": []
    },
    {
      "cell_type": "code",
      "metadata": {
        "colab": {
          "base_uri": "https://localhost:8080/"
        },
        "id": "ExviTxpME41F",
        "outputId": "5f8b4a6a-b8f6-4e85-f9ed-41a3d3d4462c"
      },
      "source": [
        "print(len(os.listdir(TRAINING_DIR1)))\n",
        "print(len(os.listdir(TRAINING_DIR2)))\n",
        "print(len(os.listdir(TRAINING_DIR3)))\n",
        "print(len(os.listdir(TRAINING_DIR4)))\n",
        "print(len(os.listdir(TRAINING_DIR5)))\n",
        "print(len(os.listdir(TRAINING_DIR6)))\n",
        "print(len(os.listdir(TRAINING_DIR7)))\n",
        "print(len(os.listdir(TRAINING_DIR8)))\n",
        "\n",
        "print(len(os.listdir(TESTING_DIR1)))\n",
        "print(len(os.listdir(TESTING_DIR2)))\n",
        "print(len(os.listdir(TESTING_DIR3)))\n",
        "print(len(os.listdir(TESTING_DIR4)))\n",
        "print(len(os.listdir(TESTING_DIR5)))\n",
        "print(len(os.listdir(TESTING_DIR6)))\n",
        "print(len(os.listdir(TESTING_DIR7)))\n",
        "print(len(os.listdir(TESTING_DIR8)))"
      ],
      "execution_count": 7,
      "outputs": [
        {
          "output_type": "stream",
          "text": [
            "800\n",
            "800\n",
            "800\n",
            "800\n",
            "800\n",
            "800\n",
            "800\n",
            "800\n",
            "200\n",
            "200\n",
            "200\n",
            "200\n",
            "200\n",
            "200\n",
            "200\n",
            "200\n"
          ],
          "name": "stdout"
        }
      ]
    },
    {
      "cell_type": "code",
      "metadata": {
        "id": "iYMQwx85E5iM",
        "colab": {
          "base_uri": "https://localhost:8080/"
        },
        "outputId": "eef0fd42-3e9f-4fa3-bcb3-6144a28da48b"
      },
      "source": [
        "import tensorflow as tf\n",
        "import keras_preprocessing\n",
        "from keras_preprocessing import image\n",
        "from keras_preprocessing.image import ImageDataGenerator\n",
        "\n",
        "image_width, image_height = 150,150\n",
        "\n",
        "TRAINING_DIR = \"/tmp/kvasir-dataset-v2/data/training/\"\n",
        "training_datagen = ImageDataGenerator(\n",
        "      rescale = 1./255,\n",
        "\t    rotation_range=40,\n",
        "      width_shift_range=0.2,\n",
        "      height_shift_range=0.2,\n",
        "      shear_range=0.2,\n",
        "      zoom_range=0.2,\n",
        "      horizontal_flip=True,\n",
        "      fill_mode='nearest')\n",
        "\n",
        "VALIDATION_DIR = \"/tmp/kvasir-dataset-v2/data/testing/\"\n",
        "validation_datagen = ImageDataGenerator(rescale = 1./255)\n",
        "\n",
        "train_generator = training_datagen.flow_from_directory(\n",
        "\tTRAINING_DIR,\n",
        "\ttarget_size=(image_width,image_height),\n",
        "\tclass_mode='categorical',\n",
        "  batch_size=128\n",
        ")\n",
        "\n",
        "validation_generator = validation_datagen.flow_from_directory(\n",
        "\tVALIDATION_DIR,\n",
        "\ttarget_size=(image_width,image_height),\n",
        "\tclass_mode='categorical',\n",
        "  batch_size=128\n",
        ")\n",
        "\n",
        "# model = tf.keras.models.Sequential([\n",
        "#     # Note the input shape is the desired size of the image 150x150 with 3 bytes color\n",
        "#     # This is the first convolution\n",
        "#     tf.keras.layers.Conv2D(64, (3,3), activation='relu', input_shape=(150, 150, 3)),\n",
        "#     tf.keras.layers.MaxPooling2D(2, 2),\n",
        "#     # The second convolution\n",
        "#     tf.keras.layers.Conv2D(64, (3,3), activation='relu'),\n",
        "#     tf.keras.layers.MaxPooling2D(2,2),\n",
        "#     # The third convolution\n",
        "#     tf.keras.layers.Conv2D(128, (3,3), activation='relu'),\n",
        "#     tf.keras.layers.MaxPooling2D(2,2),\n",
        "#     # The fourth convolution\n",
        "#     tf.keras.layers.Conv2D(128, (3,3), activation='relu'),\n",
        "#     tf.keras.layers.MaxPooling2D(2,2),\n",
        "#     # Flatten the results to feed into a DNN\n",
        "#     tf.keras.layers.Flatten(),\n",
        "#     tf.keras.layers.Dropout(0.5),\n",
        "#     # 512 neuron hidden layer\n",
        "#     tf.keras.layers.Dense(512, activation='relu'),\n",
        "#     tf.keras.layers.Dense(8, activation='softmax')\n",
        "# ])\n",
        "\n",
        "\n",
        "# model.summary()\n",
        "\n",
        "# model.compile(loss = 'categorical_crossentropy', optimizer='rmsprop', metrics=['accuracy'])\n",
        "\n",
        "history = model.fit(train_generator, epochs=100, steps_per_epoch=20, validation_data = validation_generator, verbose = 1, validation_steps=3)\n",
        "\n",
        "\n"
      ],
      "execution_count": null,
      "outputs": [
        {
          "output_type": "stream",
          "text": [
            "Found 6400 images belonging to 8 classes.\n",
            "Found 1600 images belonging to 8 classes.\n",
            "Epoch 1/100\n",
            "20/20 [==============================] - 56s 3s/step - loss: 0.3377 - accuracy: 0.8641 - val_loss: 0.3233 - val_accuracy: 0.8828\n",
            "Epoch 2/100\n",
            "20/20 [==============================] - 55s 3s/step - loss: 0.3557 - accuracy: 0.8566 - val_loss: 0.3293 - val_accuracy: 0.8542\n",
            "Epoch 3/100\n",
            "20/20 [==============================] - 55s 3s/step - loss: 0.3293 - accuracy: 0.8711 - val_loss: 0.3480 - val_accuracy: 0.8594\n",
            "Epoch 4/100\n",
            "20/20 [==============================] - 54s 3s/step - loss: 0.3255 - accuracy: 0.8684 - val_loss: 0.4180 - val_accuracy: 0.8411\n",
            "Epoch 5/100\n",
            "20/20 [==============================] - 55s 3s/step - loss: 0.3429 - accuracy: 0.8555 - val_loss: 0.3238 - val_accuracy: 0.8750\n",
            "Epoch 6/100\n",
            "20/20 [==============================] - 55s 3s/step - loss: 0.3469 - accuracy: 0.8668 - val_loss: 0.3668 - val_accuracy: 0.8464\n",
            "Epoch 7/100\n",
            "20/20 [==============================] - 54s 3s/step - loss: 0.3232 - accuracy: 0.8766 - val_loss: 0.3611 - val_accuracy: 0.8724\n",
            "Epoch 8/100\n",
            "20/20 [==============================] - 55s 3s/step - loss: 0.3382 - accuracy: 0.8680 - val_loss: 0.3449 - val_accuracy: 0.8568\n",
            "Epoch 9/100\n",
            "20/20 [==============================] - 55s 3s/step - loss: 0.3192 - accuracy: 0.8738 - val_loss: 0.4016 - val_accuracy: 0.8776\n",
            "Epoch 10/100\n",
            "20/20 [==============================] - 54s 3s/step - loss: 0.3115 - accuracy: 0.8805 - val_loss: 0.3598 - val_accuracy: 0.8854\n",
            "Epoch 11/100\n",
            "20/20 [==============================] - 54s 3s/step - loss: 0.3139 - accuracy: 0.8785 - val_loss: 0.4568 - val_accuracy: 0.8542\n",
            "Epoch 12/100\n",
            "20/20 [==============================] - 55s 3s/step - loss: 0.3228 - accuracy: 0.8715 - val_loss: 0.4019 - val_accuracy: 0.8464\n",
            "Epoch 13/100\n",
            "20/20 [==============================] - 54s 3s/step - loss: 0.3104 - accuracy: 0.8687 - val_loss: 0.4521 - val_accuracy: 0.8307\n",
            "Epoch 14/100\n",
            "20/20 [==============================] - 55s 3s/step - loss: 0.3193 - accuracy: 0.8672 - val_loss: 0.4424 - val_accuracy: 0.8385\n",
            "Epoch 15/100\n",
            "20/20 [==============================] - 55s 3s/step - loss: 0.3171 - accuracy: 0.8738 - val_loss: 0.3110 - val_accuracy: 0.8776\n",
            "Epoch 16/100\n",
            "20/20 [==============================] - 55s 3s/step - loss: 0.3073 - accuracy: 0.8820 - val_loss: 0.3886 - val_accuracy: 0.8542\n",
            "Epoch 17/100\n",
            "20/20 [==============================] - 54s 3s/step - loss: 0.3226 - accuracy: 0.8766 - val_loss: 0.3254 - val_accuracy: 0.8750\n",
            "Epoch 18/100\n",
            "20/20 [==============================] - 55s 3s/step - loss: 0.3021 - accuracy: 0.8836 - val_loss: 0.3352 - val_accuracy: 0.8646\n",
            "Epoch 19/100\n",
            "20/20 [==============================] - 54s 3s/step - loss: 0.3025 - accuracy: 0.8836 - val_loss: 0.3454 - val_accuracy: 0.8516\n",
            "Epoch 20/100\n",
            "20/20 [==============================] - 55s 3s/step - loss: 0.3145 - accuracy: 0.8750 - val_loss: 0.3803 - val_accuracy: 0.8854\n",
            "Epoch 21/100\n",
            "20/20 [==============================] - 55s 3s/step - loss: 0.3071 - accuracy: 0.8785 - val_loss: 0.4341 - val_accuracy: 0.8464\n",
            "Epoch 22/100\n",
            "20/20 [==============================] - 55s 3s/step - loss: 0.3232 - accuracy: 0.8734 - val_loss: 0.3561 - val_accuracy: 0.8672\n",
            "Epoch 23/100\n",
            "20/20 [==============================] - 55s 3s/step - loss: 0.2946 - accuracy: 0.8852 - val_loss: 0.3741 - val_accuracy: 0.8672\n",
            "Epoch 24/100\n",
            "20/20 [==============================] - 55s 3s/step - loss: 0.3254 - accuracy: 0.8691 - val_loss: 0.3713 - val_accuracy: 0.8620\n",
            "Epoch 25/100\n",
            "20/20 [==============================] - 55s 3s/step - loss: 0.3049 - accuracy: 0.8785 - val_loss: 0.6131 - val_accuracy: 0.8177\n",
            "Epoch 26/100\n",
            "20/20 [==============================] - 55s 3s/step - loss: 0.3157 - accuracy: 0.8789 - val_loss: 0.4556 - val_accuracy: 0.8307\n",
            "Epoch 27/100\n",
            "19/20 [===========================>..] - ETA: 2s - loss: 0.3109 - accuracy: 0.8701"
          ],
          "name": "stdout"
        }
      ]
    },
    {
      "cell_type": "code",
      "metadata": {
        "id": "QKskneqQEdRB"
      },
      "source": [
        "import matplotlib.pyplot as plt\n",
        "acc = history.history['accuracy']\n",
        "val_acc = history.history['val_accuracy']\n",
        "loss = history.history['loss']\n",
        "val_loss = history.history['val_loss']\n",
        "\n",
        "epochs = range(len(acc))\n",
        "\n",
        "plt.plot(epochs, acc, 'r', label='Training accuracy')\n",
        "plt.plot(epochs, val_acc, 'b', label='Validation accuracy')\n",
        "plt.title('Training and validation accuracy')\n",
        "plt.legend(loc=0)\n",
        "plt.figure()\n",
        "\n",
        "\n",
        "plt.show()"
      ],
      "execution_count": null,
      "outputs": []
    },
    {
      "cell_type": "code",
      "metadata": {
        "id": "5ZTlViMG-VT7"
      },
      "source": [
        ""
      ],
      "execution_count": null,
      "outputs": []
    }
  ]
}